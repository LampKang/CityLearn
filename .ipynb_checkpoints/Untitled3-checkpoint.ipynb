{
 "cells": [
  {
   "cell_type": "code",
   "execution_count": 2,
   "metadata": {},
   "outputs": [],
   "source": [
    "from citylearn import  CityLearn\n",
    "from pathlib import Path\n",
    "from agent import RL_Agents\n",
    "import numpy as np"
   ]
  },
  {
   "cell_type": "code",
   "execution_count": 3,
   "metadata": {},
   "outputs": [],
   "source": [
    "\n",
    "# Select the climate zone and load environment\n",
    "climate_zone = 1\n",
    "data_path = Path(\"data/Climate_Zone_\"+str(climate_zone))\n",
    "building_attributes = data_path / 'building_attributes.json'\n",
    "weather_file = data_path / 'weather_data.csv'\n",
    "solar_profile = data_path / 'solar_generation_1kW.csv'\n",
    "building_state_actions = 'buildings_state_action_space.json'\n",
    "building_ids = [\"Building_1\",\"Building_2\",\"Building_3\",\"Building_4\",\"Building_5\",\"Building_6\",\"Building_7\",\"Building_8\",\"Building_9\"]\n",
    "objective_function = ['ramping','1-load_factor','average_daily_peak','peak_demand','net_electricity_consumption']\n"
   ]
  },
  {
   "cell_type": "code",
   "execution_count": 4,
   "metadata": {},
   "outputs": [
    {
     "name": "stderr",
     "output_type": "stream",
     "text": [
      "C:\\Users\\ailab6\\.conda\\envs\\citylearn\\lib\\site-packages\\gym\\logger.py:30: UserWarning: \u001b[33mWARN: Box bound precision lowered by casting to float32\u001b[0m\n",
      "  warnings.warn(colorize('%s: %s'%('WARN', msg % args), 'yellow'))\n"
     ]
    }
   ],
   "source": [
    "\n",
    "env = CityLearn(data_path, building_attributes, weather_file, solar_profile, building_ids, buildings_states_actions = building_state_actions, cost_function = objective_function)\n",
    "observations_spaces, actions_spaces = env.get_state_action_spaces()\n"
   ]
  },
  {
   "cell_type": "code",
   "execution_count": 5,
   "metadata": {},
   "outputs": [
    {
     "data": {
      "text/plain": [
       "<citylearn.CityLearn at 0x1ab279b2788>"
      ]
     },
     "execution_count": 5,
     "metadata": {},
     "output_type": "execute_result"
    }
   ],
   "source": [
    "env"
   ]
  },
  {
   "cell_type": "code",
   "execution_count": 6,
   "metadata": {},
   "outputs": [
    {
     "name": "stdout",
     "output_type": "stream",
     "text": [
      "<CityLearn instance>\n"
     ]
    }
   ],
   "source": [
    "print(env)"
   ]
  },
  {
   "cell_type": "code",
   "execution_count": 7,
   "metadata": {},
   "outputs": [
    {
     "data": {
      "text/plain": [
       "[Box(9,),\n",
       " Box(10,),\n",
       " Box(5,),\n",
       " Box(9,),\n",
       " Box(9,),\n",
       " Box(9,),\n",
       " Box(9,),\n",
       " Box(9,),\n",
       " Box(9,)]"
      ]
     },
     "execution_count": 7,
     "metadata": {},
     "output_type": "execute_result"
    }
   ],
   "source": [
    "observations_spaces"
   ]
  },
  {
   "cell_type": "code",
   "execution_count": 8,
   "metadata": {},
   "outputs": [
    {
     "name": "stdout",
     "output_type": "stream",
     "text": [
      "[Box(9,), Box(10,), Box(5,), Box(9,), Box(9,), Box(9,), Box(9,), Box(9,), Box(9,)]\n"
     ]
    }
   ],
   "source": [
    "print(observations_spaces)"
   ]
  },
  {
   "cell_type": "code",
   "execution_count": 9,
   "metadata": {},
   "outputs": [
    {
     "data": {
      "text/plain": [
       "[Box(2,),\n",
       " Box(2,),\n",
       " Box(1,),\n",
       " Box(1,),\n",
       " Box(2,),\n",
       " Box(2,),\n",
       " Box(2,),\n",
       " Box(2,),\n",
       " Box(2,)]"
      ]
     },
     "execution_count": 9,
     "metadata": {},
     "output_type": "execute_result"
    }
   ],
   "source": [
    "actions_spaces"
   ]
  },
  {
   "cell_type": "code",
   "execution_count": 10,
   "metadata": {},
   "outputs": [],
   "source": [
    "building_info = env.get_building_information()\n"
   ]
  },
  {
   "cell_type": "code",
   "execution_count": 11,
   "metadata": {},
   "outputs": [
    {
     "data": {
      "text/plain": [
       "{'Building_1': {'building_type': 1,\n",
       "  'climate_zone': 1,\n",
       "  'solar_power_capacity (kW)': 120,\n",
       "  'Annual_DHW_demand (kWh)': 12151.42,\n",
       "  'Annual_cooling_demand (kWh)': 552440.94,\n",
       "  'Annual_nonshiftable_electrical_demand (kWh)': 217543.64,\n",
       "  'Correlations_DHW': {'Building_2': 0.49,\n",
       "   'Building_3': nan,\n",
       "   'Building_4': nan,\n",
       "   'Building_5': 0.301,\n",
       "   'Building_6': 0.325,\n",
       "   'Building_7': 0.277,\n",
       "   'Building_8': 0.239,\n",
       "   'Building_9': 0.333},\n",
       "  'Correlations_cooling_demand': {'Building_2': 0.786,\n",
       "   'Building_3': 0.861,\n",
       "   'Building_4': 0.807,\n",
       "   'Building_5': 0.688,\n",
       "   'Building_6': 0.709,\n",
       "   'Building_7': 0.708,\n",
       "   'Building_8': 0.706,\n",
       "   'Building_9': 0.655},\n",
       "  'Correlations_non_shiftable_load': {'Building_2': 0.558,\n",
       "   'Building_3': 0.701,\n",
       "   'Building_4': 0.556,\n",
       "   'Building_5': -0.002,\n",
       "   'Building_6': 0.098,\n",
       "   'Building_7': 0.101,\n",
       "   'Building_8': 0.119,\n",
       "   'Building_9': -0.167}},\n",
       " 'Building_2': {'building_type': 2,\n",
       "  'climate_zone': 1,\n",
       "  'solar_power_capacity (kW)': 0,\n",
       "  'Annual_DHW_demand (kWh)': 34267.37,\n",
       "  'Annual_cooling_demand (kWh)': 140503.89,\n",
       "  'Annual_nonshiftable_electrical_demand (kWh)': 77331.38,\n",
       "  'Correlations_DHW': {'Building_1': 0.49,\n",
       "   'Building_3': nan,\n",
       "   'Building_4': nan,\n",
       "   'Building_5': 0.11,\n",
       "   'Building_6': 0.102,\n",
       "   'Building_7': 0.119,\n",
       "   'Building_8': 0.116,\n",
       "   'Building_9': 0.095},\n",
       "  'Correlations_cooling_demand': {'Building_1': 0.786,\n",
       "   'Building_3': 0.877,\n",
       "   'Building_4': 0.822,\n",
       "   'Building_5': 0.893,\n",
       "   'Building_6': 0.874,\n",
       "   'Building_7': 0.886,\n",
       "   'Building_8': 0.884,\n",
       "   'Building_9': 0.869},\n",
       "  'Correlations_non_shiftable_load': {'Building_1': 0.558,\n",
       "   'Building_3': 0.822,\n",
       "   'Building_4': 0.821,\n",
       "   'Building_5': 0.375,\n",
       "   'Building_6': 0.244,\n",
       "   'Building_7': 0.458,\n",
       "   'Building_8': 0.455,\n",
       "   'Building_9': 0.093}},\n",
       " 'Building_3': {'building_type': 3,\n",
       "  'climate_zone': 1,\n",
       "  'solar_power_capacity (kW)': 0,\n",
       "  'Annual_DHW_demand (kWh)': 0,\n",
       "  'Annual_cooling_demand (kWh)': 302760.39,\n",
       "  'Annual_nonshiftable_electrical_demand (kWh)': 56215.49,\n",
       "  'Correlations_DHW': {'Building_1': nan,\n",
       "   'Building_2': nan,\n",
       "   'Building_4': nan,\n",
       "   'Building_5': nan,\n",
       "   'Building_6': nan,\n",
       "   'Building_7': nan,\n",
       "   'Building_8': nan,\n",
       "   'Building_9': nan},\n",
       "  'Correlations_cooling_demand': {'Building_1': 0.861,\n",
       "   'Building_2': 0.877,\n",
       "   'Building_4': 0.95,\n",
       "   'Building_5': 0.786,\n",
       "   'Building_6': 0.777,\n",
       "   'Building_7': 0.779,\n",
       "   'Building_8': 0.776,\n",
       "   'Building_9': 0.739},\n",
       "  'Correlations_non_shiftable_load': {'Building_1': 0.701,\n",
       "   'Building_2': 0.822,\n",
       "   'Building_4': 0.907,\n",
       "   'Building_5': 0.252,\n",
       "   'Building_6': 0.145,\n",
       "   'Building_7': 0.339,\n",
       "   'Building_8': 0.33,\n",
       "   'Building_9': -0.042}},\n",
       " 'Building_4': {'building_type': 4,\n",
       "  'climate_zone': 1,\n",
       "  'solar_power_capacity (kW)': 40,\n",
       "  'Annual_DHW_demand (kWh)': 0,\n",
       "  'Annual_cooling_demand (kWh)': 280239.0,\n",
       "  'Annual_nonshiftable_electrical_demand (kWh)': 36978.9,\n",
       "  'Correlations_DHW': {'Building_1': nan,\n",
       "   'Building_2': nan,\n",
       "   'Building_3': nan,\n",
       "   'Building_5': nan,\n",
       "   'Building_6': nan,\n",
       "   'Building_7': nan,\n",
       "   'Building_8': nan,\n",
       "   'Building_9': nan},\n",
       "  'Correlations_cooling_demand': {'Building_1': 0.807,\n",
       "   'Building_2': 0.822,\n",
       "   'Building_3': 0.95,\n",
       "   'Building_5': 0.739,\n",
       "   'Building_6': 0.727,\n",
       "   'Building_7': 0.726,\n",
       "   'Building_8': 0.717,\n",
       "   'Building_9': 0.689},\n",
       "  'Correlations_non_shiftable_load': {'Building_1': 0.556,\n",
       "   'Building_2': 0.821,\n",
       "   'Building_3': 0.907,\n",
       "   'Building_5': 0.301,\n",
       "   'Building_6': 0.152,\n",
       "   'Building_7': 0.414,\n",
       "   'Building_8': 0.347,\n",
       "   'Building_9': 0.07}},\n",
       " 'Building_5': {'building_type': 5,\n",
       "  'climate_zone': 1,\n",
       "  'solar_power_capacity (kW)': 25,\n",
       "  'Annual_DHW_demand (kWh)': 33196.92,\n",
       "  'Annual_cooling_demand (kWh)': 201726.87,\n",
       "  'Annual_nonshiftable_electrical_demand (kWh)': 99353.5,\n",
       "  'Correlations_DHW': {'Building_1': 0.301,\n",
       "   'Building_2': 0.11,\n",
       "   'Building_3': nan,\n",
       "   'Building_4': nan,\n",
       "   'Building_6': 0.755,\n",
       "   'Building_7': 0.748,\n",
       "   'Building_8': 0.706,\n",
       "   'Building_9': 0.734},\n",
       "  'Correlations_cooling_demand': {'Building_1': 0.688,\n",
       "   'Building_2': 0.893,\n",
       "   'Building_3': 0.786,\n",
       "   'Building_4': 0.739,\n",
       "   'Building_6': 0.954,\n",
       "   'Building_7': 0.97,\n",
       "   'Building_8': 0.968,\n",
       "   'Building_9': 0.965},\n",
       "  'Correlations_non_shiftable_load': {'Building_1': -0.002,\n",
       "   'Building_2': 0.375,\n",
       "   'Building_3': 0.252,\n",
       "   'Building_4': 0.301,\n",
       "   'Building_6': 0.288,\n",
       "   'Building_7': 0.663,\n",
       "   'Building_8': 0.604,\n",
       "   'Building_9': 0.586}},\n",
       " 'Building_6': {'building_type': 5,\n",
       "  'climate_zone': 1,\n",
       "  'solar_power_capacity (kW)': 20,\n",
       "  'Annual_DHW_demand (kWh)': 33258.48,\n",
       "  'Annual_cooling_demand (kWh)': 200600.78,\n",
       "  'Annual_nonshiftable_electrical_demand (kWh)': 94845.9,\n",
       "  'Correlations_DHW': {'Building_1': 0.325,\n",
       "   'Building_2': 0.102,\n",
       "   'Building_3': nan,\n",
       "   'Building_4': nan,\n",
       "   'Building_5': 0.755,\n",
       "   'Building_7': 0.722,\n",
       "   'Building_8': 0.651,\n",
       "   'Building_9': 0.781},\n",
       "  'Correlations_cooling_demand': {'Building_1': 0.709,\n",
       "   'Building_2': 0.874,\n",
       "   'Building_3': 0.777,\n",
       "   'Building_4': 0.727,\n",
       "   'Building_5': 0.954,\n",
       "   'Building_7': 0.958,\n",
       "   'Building_8': 0.967,\n",
       "   'Building_9': 0.963},\n",
       "  'Correlations_non_shiftable_load': {'Building_1': 0.098,\n",
       "   'Building_2': 0.244,\n",
       "   'Building_3': 0.145,\n",
       "   'Building_4': 0.152,\n",
       "   'Building_5': 0.288,\n",
       "   'Building_7': 0.342,\n",
       "   'Building_8': 0.321,\n",
       "   'Building_9': 0.313}},\n",
       " 'Building_7': {'building_type': 5,\n",
       "  'climate_zone': 1,\n",
       "  'solar_power_capacity (kW)': 0,\n",
       "  'Annual_DHW_demand (kWh)': 33116.28,\n",
       "  'Annual_cooling_demand (kWh)': 208809.77,\n",
       "  'Annual_nonshiftable_electrical_demand (kWh)': 100615.5,\n",
       "  'Correlations_DHW': {'Building_1': 0.277,\n",
       "   'Building_2': 0.119,\n",
       "   'Building_3': nan,\n",
       "   'Building_4': nan,\n",
       "   'Building_5': 0.748,\n",
       "   'Building_6': 0.722,\n",
       "   'Building_8': 0.751,\n",
       "   'Building_9': 0.67},\n",
       "  'Correlations_cooling_demand': {'Building_1': 0.708,\n",
       "   'Building_2': 0.886,\n",
       "   'Building_3': 0.779,\n",
       "   'Building_4': 0.726,\n",
       "   'Building_5': 0.97,\n",
       "   'Building_6': 0.958,\n",
       "   'Building_8': 0.972,\n",
       "   'Building_9': 0.965},\n",
       "  'Correlations_non_shiftable_load': {'Building_1': 0.101,\n",
       "   'Building_2': 0.458,\n",
       "   'Building_3': 0.339,\n",
       "   'Building_4': 0.414,\n",
       "   'Building_5': 0.663,\n",
       "   'Building_6': 0.342,\n",
       "   'Building_8': 0.607,\n",
       "   'Building_9': 0.534}},\n",
       " 'Building_8': {'building_type': 5,\n",
       "  'climate_zone': 1,\n",
       "  'solar_power_capacity (kW)': 0,\n",
       "  'Annual_DHW_demand (kWh)': 32701.8,\n",
       "  'Annual_cooling_demand (kWh)': 183190.79,\n",
       "  'Annual_nonshiftable_electrical_demand (kWh)': 91188.8,\n",
       "  'Correlations_DHW': {'Building_1': 0.239,\n",
       "   'Building_2': 0.116,\n",
       "   'Building_3': nan,\n",
       "   'Building_4': nan,\n",
       "   'Building_5': 0.706,\n",
       "   'Building_6': 0.651,\n",
       "   'Building_7': 0.751,\n",
       "   'Building_9': 0.583},\n",
       "  'Correlations_cooling_demand': {'Building_1': 0.706,\n",
       "   'Building_2': 0.884,\n",
       "   'Building_3': 0.776,\n",
       "   'Building_4': 0.717,\n",
       "   'Building_5': 0.968,\n",
       "   'Building_6': 0.967,\n",
       "   'Building_7': 0.972,\n",
       "   'Building_9': 0.968},\n",
       "  'Correlations_non_shiftable_load': {'Building_1': 0.119,\n",
       "   'Building_2': 0.455,\n",
       "   'Building_3': 0.33,\n",
       "   'Building_4': 0.347,\n",
       "   'Building_5': 0.604,\n",
       "   'Building_6': 0.321,\n",
       "   'Building_7': 0.607,\n",
       "   'Building_9': 0.446}},\n",
       " 'Building_9': {'building_type': 5,\n",
       "  'climate_zone': 1,\n",
       "  'solar_power_capacity (kW)': 0,\n",
       "  'Annual_DHW_demand (kWh)': 33434.04,\n",
       "  'Annual_cooling_demand (kWh)': 176503.52,\n",
       "  'Annual_nonshiftable_electrical_demand (kWh)': 97620.5,\n",
       "  'Correlations_DHW': {'Building_1': 0.333,\n",
       "   'Building_2': 0.095,\n",
       "   'Building_3': nan,\n",
       "   'Building_4': nan,\n",
       "   'Building_5': 0.734,\n",
       "   'Building_6': 0.781,\n",
       "   'Building_7': 0.67,\n",
       "   'Building_8': 0.583},\n",
       "  'Correlations_cooling_demand': {'Building_1': 0.655,\n",
       "   'Building_2': 0.869,\n",
       "   'Building_3': 0.739,\n",
       "   'Building_4': 0.689,\n",
       "   'Building_5': 0.965,\n",
       "   'Building_6': 0.963,\n",
       "   'Building_7': 0.965,\n",
       "   'Building_8': 0.968},\n",
       "  'Correlations_non_shiftable_load': {'Building_1': -0.167,\n",
       "   'Building_2': 0.093,\n",
       "   'Building_3': -0.042,\n",
       "   'Building_4': 0.07,\n",
       "   'Building_5': 0.586,\n",
       "   'Building_6': 0.313,\n",
       "   'Building_7': 0.534,\n",
       "   'Building_8': 0.446}}}"
      ]
     },
     "execution_count": 11,
     "metadata": {},
     "output_type": "execute_result"
    }
   ],
   "source": [
    "building_info"
   ]
  },
  {
   "cell_type": "code",
   "execution_count": 12,
   "metadata": {},
   "outputs": [],
   "source": [
    "agents = RL_Agents(building_info, observations_spaces, actions_spaces)\n"
   ]
  },
  {
   "cell_type": "code",
   "execution_count": 13,
   "metadata": {},
   "outputs": [
    {
     "data": {
      "text/plain": [
       "<agent.RL_Agents at 0x1ab279b9688>"
      ]
     },
     "execution_count": 13,
     "metadata": {},
     "output_type": "execute_result"
    }
   ],
   "source": [
    "agents"
   ]
  },
  {
   "cell_type": "code",
   "execution_count": 14,
   "metadata": {},
   "outputs": [
    {
     "name": "stdout",
     "output_type": "stream",
     "text": [
      "<agent.RL_Agents object at 0x000001AB279B9688>\n"
     ]
    }
   ],
   "source": [
    "print(agents)"
   ]
  },
  {
   "cell_type": "code",
   "execution_count": 16,
   "metadata": {},
   "outputs": [],
   "source": [
    "episodes = 10\n",
    "\n",
    "k, c = 0, 0\n",
    "cost, cum_reward = {}, {}\n",
    "\n",
    "\n",
    "cum_reward[0] = 0\n",
    "rewards = []\n",
    "state = env.reset()\n",
    "done = False"
   ]
  },
  {
   "cell_type": "code",
   "execution_count": 17,
   "metadata": {},
   "outputs": [],
   "source": [
    "action = agents.select_action(state)"
   ]
  },
  {
   "cell_type": "code",
   "execution_count": 18,
   "metadata": {},
   "outputs": [
    {
     "data": {
      "text/plain": [
       "[array([-0.15981804, -0.12908071]),\n",
       " array([0.2279358, 0.25     ]),\n",
       " array([0.05995874]),\n",
       " array([-0.12121877]),\n",
       " array([0.25      , 0.11841791]),\n",
       " array([-0.03085748,  0.24151775]),\n",
       " array([-0.14550301, -0.14660374]),\n",
       " array([-0.19802541, -0.04413524]),\n",
       " array([ 0.25, -0.25])]"
      ]
     },
     "execution_count": 18,
     "metadata": {},
     "output_type": "execute_result"
    }
   ],
   "source": [
    "action"
   ]
  },
  {
   "cell_type": "code",
   "execution_count": 24,
   "metadata": {},
   "outputs": [],
   "source": [
    "next_state, reward, done, _ = env.step(action)\n"
   ]
  },
  {
   "cell_type": "code",
   "execution_count": 25,
   "metadata": {},
   "outputs": [
    {
     "data": {
      "text/plain": [
       "array([array([  3.  ,  16.1 ,  25.9 ,   0.  , 101.65,   0.  , 329.89,   0.  ,\n",
       "         0.  ]),\n",
       "       array([  3.        ,  16.1       ,  25.9       ,   0.        ,\n",
       "       101.65      ,   0.        , 329.89      ,   2.47      ,\n",
       "         0.45450399,   0.498     ]),\n",
       "       array([ 3.        , 16.1       , 25.9       ,  1.7       ,  0.11955773]),\n",
       "       array([  3.  ,  16.1 ,  25.9 ,   0.  , 101.65,   0.  , 329.89,   0.41,\n",
       "         0.  ]),\n",
       "       array([3.00000000e+00, 1.61000000e+01, 2.59000000e+01, 0.00000000e+00,\n",
       "       1.01650000e+02, 0.00000000e+00, 3.29890000e+02, 4.98500000e-01,\n",
       "       2.35888479e-01]),\n",
       "       array([  3.        ,  16.1       ,  25.9       ,   0.        ,\n",
       "       101.65      ,   0.        , 329.89      ,   0.        ,\n",
       "         0.48110337]),\n",
       "       array([  3.  ,  16.1 ,  25.9 ,   0.  , 101.65,   0.  , 329.89,   0.  ,\n",
       "         0.  ]),\n",
       "       array([  3.  ,  16.1 ,  25.9 ,   0.  , 101.65,   0.  , 329.89,   0.  ,\n",
       "         0.  ]),\n",
       "       array([  3.    ,  16.1   ,  25.9   ,   0.    , 101.65  ,   0.    ,\n",
       "       329.89  ,   0.4985,   0.    ])], dtype=object)"
      ]
     },
     "execution_count": 25,
     "metadata": {},
     "output_type": "execute_result"
    }
   ],
   "source": [
    "next_state"
   ]
  },
  {
   "cell_type": "code",
   "execution_count": 26,
   "metadata": {},
   "outputs": [
    {
     "data": {
      "text/plain": [
       "[-12.98725462184261,\n",
       " -36.002087298814466,\n",
       " -9.176082371337136,\n",
       " -0.6007320419795039,\n",
       " -38.676959528083586,\n",
       " -49.82074602207309,\n",
       " -12.277132230611672,\n",
       " -18.239074566388854,\n",
       " -26.7998555030326]"
      ]
     },
     "execution_count": 26,
     "metadata": {},
     "output_type": "execute_result"
    }
   ],
   "source": [
    "reward"
   ]
  },
  {
   "cell_type": "code",
   "execution_count": 27,
   "metadata": {},
   "outputs": [
    {
     "data": {
      "text/plain": [
       "False"
      ]
     },
     "execution_count": 27,
     "metadata": {},
     "output_type": "execute_result"
    }
   ],
   "source": [
    "done"
   ]
  },
  {
   "cell_type": "code",
   "execution_count": 28,
   "metadata": {},
   "outputs": [
    {
     "data": {
      "text/plain": [
       "{}"
      ]
     },
     "execution_count": 28,
     "metadata": {},
     "output_type": "execute_result"
    }
   ],
   "source": [
    "_"
   ]
  },
  {
   "cell_type": "code",
   "execution_count": 29,
   "metadata": {},
   "outputs": [],
   "source": [
    "        agents.add_to_buffer(state, action, reward, next_state, done)\n"
   ]
  },
  {
   "cell_type": "code",
   "execution_count": 30,
   "metadata": {},
   "outputs": [
    {
     "data": {
      "text/plain": [
       "<agent.RL_Agents at 0x1ab279b9688>"
      ]
     },
     "execution_count": 30,
     "metadata": {},
     "output_type": "execute_result"
    }
   ],
   "source": [
    "agents"
   ]
  },
  {
   "cell_type": "code",
   "execution_count": 31,
   "metadata": {},
   "outputs": [
    {
     "data": {
      "text/plain": [
       "array([array([ 1.  , 17.81, 25.29,  0.  ,  0.  ,  0.  ,  0.  ,  0.  ,  0.  ],\n",
       "      dtype=float32),\n",
       "       array([ 1.  , 17.81, 25.29,  0.  ,  0.  ,  0.  ,  0.  ,  2.36,  0.  ,\n",
       "        0.  ], dtype=float32),\n",
       "       array([ 1.  , 17.81, 25.29,  1.65,  0.  ], dtype=float32),\n",
       "       array([ 1.  , 17.81, 25.29,  0.  ,  0.  ,  0.  ,  0.  ,  0.46,  0.  ],\n",
       "      dtype=float32),\n",
       "       array([ 1.  , 17.81, 25.29,  0.  ,  0.  ,  0.  ,  0.  ,  0.  ,  0.  ],\n",
       "      dtype=float32),\n",
       "       array([ 1.  , 17.81, 25.29,  0.  ,  0.  ,  0.  ,  0.  ,  0.  ,  0.  ],\n",
       "      dtype=float32),\n",
       "       array([ 1.  , 17.81, 25.29,  0.  ,  0.  ,  0.  ,  0.  ,  0.  ,  0.  ],\n",
       "      dtype=float32),\n",
       "       array([ 1.  , 17.81, 25.29,  0.  ,  0.  ,  0.  ,  0.  ,  0.  ,  0.  ],\n",
       "      dtype=float32),\n",
       "       array([ 1.  , 17.81, 25.29,  0.  ,  0.  ,  0.  ,  0.  ,  0.  ,  0.  ],\n",
       "      dtype=float32)], dtype=object)"
      ]
     },
     "execution_count": 31,
     "metadata": {},
     "output_type": "execute_result"
    }
   ],
   "source": [
    "state"
   ]
  },
  {
   "cell_type": "code",
   "execution_count": 32,
   "metadata": {},
   "outputs": [
    {
     "data": {
      "text/plain": [
       "[]"
      ]
     },
     "execution_count": 32,
     "metadata": {},
     "output_type": "execute_result"
    }
   ],
   "source": [
    "rewards"
   ]
  },
  {
   "cell_type": "code",
   "execution_count": 35,
   "metadata": {},
   "outputs": [],
   "source": [
    "rewards.append(reward)"
   ]
  },
  {
   "cell_type": "code",
   "execution_count": 36,
   "metadata": {},
   "outputs": [
    {
     "data": {
      "text/plain": [
       "[[-12.98725462184261,\n",
       "  -36.002087298814466,\n",
       "  -9.176082371337136,\n",
       "  -0.6007320419795039,\n",
       "  -38.676959528083586,\n",
       "  -49.82074602207309,\n",
       "  -12.277132230611672,\n",
       "  -18.239074566388854,\n",
       "  -26.7998555030326],\n",
       " [-12.98725462184261,\n",
       "  -36.002087298814466,\n",
       "  -9.176082371337136,\n",
       "  -0.6007320419795039,\n",
       "  -38.676959528083586,\n",
       "  -49.82074602207309,\n",
       "  -12.277132230611672,\n",
       "  -18.239074566388854,\n",
       "  -26.7998555030326]]"
      ]
     },
     "execution_count": 36,
     "metadata": {},
     "output_type": "execute_result"
    }
   ],
   "source": [
    "rewards"
   ]
  },
  {
   "cell_type": "code",
   "execution_count": null,
   "metadata": {},
   "outputs": [
    {
     "name": "stderr",
     "output_type": "stream",
     "text": [
      "C:\\Users\\ailab6\\.conda\\envs\\citylearn\\lib\\site-packages\\gym\\logger.py:30: UserWarning: \u001b[33mWARN: Box bound precision lowered by casting to float32\u001b[0m\n",
      "  warnings.warn(colorize('%s: %s'%('WARN', msg % args), 'yellow'))\n"
     ]
    }
   ],
   "source": [
    "cost[0] = env.cost()"
   ]
  },
  {
   "cell_type": "code",
   "execution_count": null,
   "metadata": {
    "collapsed": true
   },
   "outputs": [],
   "source": []
  }
 ],
 "metadata": {
  "kernelspec": {
   "display_name": "Python 3",
   "language": "python",
   "name": "python3"
  },
  "language_info": {
   "codemirror_mode": {
    "name": "ipython",
    "version": 3
   },
   "file_extension": ".py",
   "mimetype": "text/x-python",
   "name": "python",
   "nbconvert_exporter": "python",
   "pygments_lexer": "ipython3",
   "version": "3.7.7"
  }
 },
 "nbformat": 4,
 "nbformat_minor": 2
}
